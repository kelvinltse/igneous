{
 "cells": [
  {
   "cell_type": "markdown",
   "metadata": {},
   "source": [
    "# igneous\n",
    "\n",
    "> Fill in a module description here"
   ]
  },
  {
   "cell_type": "code",
   "execution_count": null,
   "metadata": {},
   "outputs": [],
   "source": [
    "#|default_exp igneous"
   ]
  },
  {
   "cell_type": "code",
   "execution_count": null,
   "metadata": {},
   "outputs": [],
   "source": [
    "#|export\n",
    "from fastai.vision.all import *"
   ]
  },
  {
   "cell_type": "code",
   "execution_count": null,
   "metadata": {},
   "outputs": [],
   "source": [
    "#| hide\n",
    "from nbdev.showdoc import *"
   ]
  },
  {
   "cell_type": "code",
   "execution_count": null,
   "metadata": {},
   "outputs": [],
   "source": [
    "#| export\n",
    "from pathlib import Path\n",
    "\n",
    "# Get the path relative to the module location\n",
    "def get_model_path():\n",
    "    try:\n",
    "        # When running as a module\n",
    "        module_path = Path(__file__).parent.parent / 'nbs' / 'export.pkl'\n",
    "        if module_path.exists():\n",
    "            return module_path\n",
    "    except NameError:\n",
    "        # When running in notebook\n",
    "        notebook_path = Path('export.pkl')\n",
    "        if notebook_path.exists():\n",
    "            return notebook_path\n",
    "        \n",
    "        # Try absolute path as fallback\n",
    "        abs_path = Path('/Users/kelvin/igneous/nbs/export.pkl')\n",
    "        if abs_path.exists():\n",
    "            return abs_path\n",
    "            \n",
    "    raise FileNotFoundError(f\"Could not find export.pkl in expected locations\")\n",
    "\n",
    "learn = load_learner(get_model_path())"
   ]
  },
  {
   "cell_type": "code",
   "execution_count": null,
   "metadata": {},
   "outputs": [],
   "source": [
    "# #| export\n",
    "# learn = load_learner('export.pkl')"
   ]
  },
  {
   "cell_type": "code",
   "execution_count": null,
   "metadata": {},
   "outputs": [],
   "source": [
    "#|export\n",
    "categories = ('granite', 'gabbro')\n",
    "\n",
    "def classify_image(img):\n",
    "    pred,idx,probs = learn.predict(img)\n",
    "    return dict(zip(categories, map(float,probs)))"
   ]
  },
  {
   "cell_type": "code",
   "execution_count": null,
   "metadata": {},
   "outputs": [],
   "source": [
    "#| hide\n",
    "import nbdev; nbdev.nbdev_export()"
   ]
  }
 ],
 "metadata": {
  "kernelspec": {
   "display_name": "python3",
   "language": "python",
   "name": "python3"
  }
 },
 "nbformat": 4,
 "nbformat_minor": 4
}
